{
 "cells": [
  {
   "cell_type": "markdown",
   "metadata": {},
   "source": [
    "# Noteworthy differences to Python"
   ]
  },
  {
   "cell_type": "markdown",
   "metadata": {},
   "source": [
    "Coming from Python, how does the experience translate to Julia? Note, also see https://docs.julialang.org/en/v1/manual/noteworthy-differences for a complete overview. Please keep the manual next https://docs.julialang.org/en/v1/manual to this course and try to use the ? help function in the REPL prompt."
   ]
  },
  {
   "cell_type": "markdown",
   "metadata": {},
   "source": [
    "### Difference between single and double quotes\n",
    "There's a difference between `'` and `\"` quotes in Julia, whereas in Python they can both be used for strings. In Julia the single quote is used for characters."
   ]
  },
  {
   "cell_type": "code",
   "execution_count": 1,
   "metadata": {},
   "outputs": [
    {
     "name": "stdout",
     "output_type": "stream",
     "text": [
      "Char\n",
      "String\n",
      "a string with odd \" characters '... \n"
     ]
    },
    {
     "ename": "LoadError",
     "evalue": "syntax: character literal contains multiple characters",
     "output_type": "error",
     "traceback": [
      "syntax: character literal contains multiple characters",
      "",
      "Stacktrace:",
      " [1] top-level scope",
      "   @ In[1]:4"
     ]
    }
   ],
   "source": [
    "println(typeof('a'))\n",
    "println(typeof(\"bb\"))\n",
    "println(\"\"\"a string with odd \" characters '... \"\"\")\n",
    "'tryout'"
   ]
  },
  {
   "cell_type": "markdown",
   "metadata": {},
   "source": [
    "### Built in Array support\n",
    "In Python you need numpy to have arrays and their related operations. In Julia its built-in:"
   ]
  },
  {
   "cell_type": "code",
   "execution_count": 2,
   "metadata": {},
   "outputs": [
    {
     "data": {
      "text/plain": [
       "3×3 Matrix{Float64}:\n",
       " 0.289345   0.994618  0.057689\n",
       " 0.115177   0.522643  0.104431\n",
       " 0.0957622  0.871251  0.0777934"
      ]
     },
     "execution_count": 2,
     "metadata": {},
     "output_type": "execute_result"
    }
   ],
   "source": [
    "# Vector of [1,1,1,1,1]\n",
    "ones(5)\n",
    "\n",
    "# Random two dimensional matrix\n",
    "nine = rand(3,3)"
   ]
  },
  {
   "cell_type": "markdown",
   "metadata": {},
   "source": [
    "Note however that the order of columns and rows is different than what you're used to. Multidimensional arrays in Julia are stored in column-major order:"
   ]
  },
  {
   "cell_type": "code",
   "execution_count": 3,
   "metadata": {},
   "outputs": [
    {
     "data": {
      "text/plain": [
       "2×2 Matrix{Int64}:\n",
       " 1  2\n",
       " 3  4"
      ]
     },
     "execution_count": 3,
     "metadata": {},
     "output_type": "execute_result"
    }
   ],
   "source": [
    "x = [1 2; 3 4]"
   ]
  },
  {
   "cell_type": "code",
   "execution_count": 4,
   "metadata": {},
   "outputs": [
    {
     "data": {
      "text/plain": [
       "4-element Vector{Int64}:\n",
       " 1\n",
       " 3\n",
       " 2\n",
       " 4"
      ]
     },
     "execution_count": 4,
     "metadata": {},
     "output_type": "execute_result"
    }
   ],
   "source": [
    "x[:]"
   ]
  },
  {
   "cell_type": "markdown",
   "metadata": {},
   "source": [
    "### Missing support\n",
    "Whereas in Python you would use the numpy masking function, Julia has a built-in Missing type for this. It corresponds to the `NULL` from SQL or `NA` in R. It propagates through the use of normal math functions."
   ]
  },
  {
   "cell_type": "code",
   "execution_count": 5,
   "metadata": {},
   "outputs": [
    {
     "data": {
      "text/plain": [
       "2-element Vector{Union{Missing, Int64}}:\n",
       " 1\n",
       "  missing"
      ]
     },
     "execution_count": 5,
     "metadata": {},
     "output_type": "execute_result"
    }
   ],
   "source": [
    "A = [1, missing]"
   ]
  },
  {
   "cell_type": "code",
   "execution_count": 6,
   "metadata": {},
   "outputs": [
    {
     "data": {
      "text/plain": [
       "2-element Vector{Union{Missing, Int64}}:\n",
       " 2\n",
       "  missing"
      ]
     },
     "execution_count": 6,
     "metadata": {},
     "output_type": "execute_result"
    }
   ],
   "source": [
    "A .* 2"
   ]
  },
  {
   "cell_type": "markdown",
   "metadata": {},
   "source": [
    "### Usage of `end` statement\n",
    "In Python the loop is ended by indentation:\n",
    "\n",
    "```python\n",
    "for x in collection:\n",
    "    something()\n",
    "\n",
    "# end of loop\n",
    "```"
   ]
  },
  {
   "cell_type": "markdown",
   "metadata": {},
   "source": [
    "While in Julia, you need to explicitly end the loop. The same goes for `function`s, `while`s, `if`s and `else`s and similar constructs:"
   ]
  },
  {
   "cell_type": "code",
   "execution_count": 7,
   "metadata": {},
   "outputs": [
    {
     "name": "stderr",
     "output_type": "stream",
     "text": [
      "\u001b[36m\u001b[1m[ \u001b[22m\u001b[39m\u001b[36m\u001b[1mInfo: \u001b[22m\u001b[39mThis seems a sensible result\n"
     ]
    }
   ],
   "source": [
    "function square(number::Int)\n",
    "    number^2\n",
    "end\n",
    "\n",
    "for x in 1:10\n",
    "    square(x)\n",
    "end\n",
    "\n",
    "if 1 > 10\n",
    "    println(\"What?!\")\n",
    "else\n",
    "    @info \"This seems a sensible result\"\n",
    "end"
   ]
  },
  {
   "cell_type": "markdown",
   "metadata": {},
   "source": [
    "Note that you also don't need the `:` character from Python."
   ]
  },
  {
   "cell_type": "markdown",
   "metadata": {},
   "source": [
    "### Indexing\n",
    "Depending on which language you come from, this can be odd, Julia uses one based indexing, just like Fortran. But unlike C and C-like languages such as Python. However, there are options to override this and have custom indexing, not only 0 based, but also custom loops etc."
   ]
  },
  {
   "cell_type": "code",
   "execution_count": 8,
   "metadata": {},
   "outputs": [
    {
     "name": "stdout",
     "output_type": "stream",
     "text": [
      "1\n",
      "3\n",
      "[1, 2]\n",
      "[1, 2, 3]\n",
      "[1, 2, 3]\n",
      "[0.29318480435107497, 0.22302731402386, 0.6437676777194766]\n",
      "[0.29318480435107497, 0.4436501075684014, 0.8059438424152632]\n"
     ]
    },
    {
     "ename": "LoadError",
     "evalue": "BoundsError: attempt to access 3-element Vector{Int64} at index [0]",
     "output_type": "error",
     "traceback": [
      "BoundsError: attempt to access 3-element Vector{Int64} at index [0]",
      "",
      "Stacktrace:",
      " [1] getindex(A::Vector{Int64}, i1::Int64)",
      "   @ Base ./essentials.jl:13",
      " [2] top-level scope",
      "   @ In[8]:12"
     ]
    }
   ],
   "source": [
    "a = [1,2,3]\n",
    "println(a[1])\n",
    "println(a[end])\n",
    "println(a[1:2])\n",
    "println(a[1:3])\n",
    "println(a[1:end])\n",
    "\n",
    "b = rand(3,3)\n",
    "println(b[1, :])  # 1 column\n",
    "println(b[:, 1])  # 1 row\n",
    "\n",
    "a[0]  # BoundsError"
   ]
  },
  {
   "cell_type": "markdown",
   "metadata": {},
   "source": [
    "## Excercises\n",
    "We give a few problems here to try out, in a few minutes we'll provide our answers to them. Note that you could share them using [repl.it](repl.it) and generating a link there. In that way we can help you with your problems."
   ]
  },
  {
   "cell_type": "markdown",
   "metadata": {},
   "source": [
    "---\n",
    "Try to generate a few Arrays, either with `rand`, `range` or typed out and add/substract these two arrays. You can also `fill!` them. What does the `!` indicate in that function?\n"
   ]
  },
  {
   "cell_type": "code",
   "execution_count": 9,
   "metadata": {},
   "outputs": [
    {
     "data": {
      "text/plain": [
       "range (generic function with 4 methods)"
      ]
     },
     "execution_count": 9,
     "metadata": {},
     "output_type": "execute_result"
    }
   ],
   "source": [
    "range"
   ]
  },
  {
   "cell_type": "markdown",
   "metadata": {},
   "source": [
    "---\n",
    "Use `hcat` or `vcat` to concatenate these two arrays and if that fails, try to understand why. You can get the size or dimensions of an Array with `length` and `ndim`. See https://docs.julialang.org/en/v1/manual/arrays/ for an overview."
   ]
  },
  {
   "cell_type": "code",
   "execution_count": null,
   "metadata": {},
   "outputs": [],
   "source": []
  },
  {
   "cell_type": "markdown",
   "metadata": {},
   "source": [
    "---\n",
    "Try to slice any of the previously made arrays and get one value out of there. Can you also assign a single value to a specific point in your array? What happens if you put in an Integer instead in an Array of floats? What happens if you compare (`==`) your two Arrays? And what happens if you do `.==`?"
   ]
  },
  {
   "cell_type": "code",
   "execution_count": null,
   "metadata": {},
   "outputs": [],
   "source": []
  },
  {
   "cell_type": "markdown",
   "metadata": {},
   "source": [
    "---\n",
    "Let's try to apply some common algebra functions to your arrays. Can you use `'` (transpose)? Or use the `dot` function. Maybe the `inv` of your Matrix? See https://docs.julialang.org/en/v1/stdlib/LinearAlgebra/#Linear-Algebra-1 for an overview."
   ]
  },
  {
   "cell_type": "code",
   "execution_count": null,
   "metadata": {},
   "outputs": [],
   "source": []
  },
  {
   "cell_type": "code",
   "execution_count": null,
   "metadata": {},
   "outputs": [],
   "source": []
  },
  {
   "cell_type": "code",
   "execution_count": null,
   "metadata": {},
   "outputs": [],
   "source": []
  }
 ],
 "metadata": {
  "kernelspec": {
   "display_name": "Julia 1.9.3",
   "language": "julia",
   "name": "julia-1.9"
  },
  "language_info": {
   "file_extension": ".jl",
   "mimetype": "application/julia",
   "name": "julia",
   "version": "1.9.3"
  }
 },
 "nbformat": 4,
 "nbformat_minor": 4
}
