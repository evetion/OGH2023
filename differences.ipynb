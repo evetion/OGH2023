{
 "cells": [
  {
   "cell_type": "markdown",
   "metadata": {},
   "source": [
    "# Noteworthy differences"
   ]
  },
  {
   "cell_type": "markdown",
   "metadata": {},
   "source": [
    "Coming from Python, MATLAB or R, how does the experience translate to Julia? Note, also see https://docs.julialang.org/en/v1/manual/noteworthy-differences for a complete overview. Please keep the manual next https://docs.julialang.org/en/v1/manual to this course and try to use the ? help function in the REPL prompt."
   ]
  },
  {
   "cell_type": "markdown",
   "metadata": {
    "tags": []
   },
   "source": [
    "## Not object oriented\n",
    "Julia is not (really) objected oriented, functions don't belong to a single object (or type). Hence, the syntax is often `f(x)` and not `x.f()`. The dot notation is reserved for accessing properties (or fields) of the type."
   ]
  },
  {
   "cell_type": "code",
   "execution_count": 21,
   "metadata": {},
   "outputs": [
    {
     "ename": "LoadError",
     "evalue": "type Tuple has no field length",
     "output_type": "error",
     "traceback": [
      "type Tuple has no field length",
      "",
      "Stacktrace:",
      " [1] getproperty(x::Tuple{Int64, Int64, Int64}, f::Symbol)",
      "   @ Base ./Base.jl:37",
      " [2] top-level scope",
      "   @ In[21]:3"
     ]
    }
   ],
   "source": [
    "A = (1,2,3)\n",
    "length(A)\n",
    "A.length"
   ]
  },
  {
   "cell_type": "markdown",
   "metadata": {},
   "source": [
    "## Difference between single and double quotes\n",
    "There's a difference between `'` and `\"` quotes in Julia, whereas in Python they can both be used for strings. In Julia the single quote is used for characters."
   ]
  },
  {
   "cell_type": "code",
   "execution_count": 22,
   "metadata": {},
   "outputs": [
    {
     "name": "stdout",
     "output_type": "stream",
     "text": [
      "Char\n",
      "String\n",
      "a string with odd \" characters '... \n"
     ]
    },
    {
     "ename": "LoadError",
     "evalue": "syntax: character literal contains multiple characters",
     "output_type": "error",
     "traceback": [
      "syntax: character literal contains multiple characters",
      "",
      "Stacktrace:",
      " [1] top-level scope",
      "   @ In[22]:4"
     ]
    }
   ],
   "source": [
    "println(typeof('a'))\n",
    "println(typeof(\"bb\"))\n",
    "println(\"\"\"a string with odd \" characters '... \"\"\")\n",
    "'tryout'"
   ]
  },
  {
   "cell_type": "markdown",
   "metadata": {},
   "source": [
    "## Built in Array support\n",
    "In Python you need numpy to have arrays and their related operations. In Julia its built-in:"
   ]
  },
  {
   "cell_type": "code",
   "execution_count": 23,
   "metadata": {},
   "outputs": [
    {
     "data": {
      "text/plain": [
       "3×3 Matrix{Float64}:\n",
       " 0.741954  0.22644   0.12945\n",
       " 0.386625  0.183048  0.70617\n",
       " 0.254794  0.245816  0.309151"
      ]
     },
     "execution_count": 23,
     "metadata": {},
     "output_type": "execute_result"
    }
   ],
   "source": [
    "# Vector of [1,1,1,1,1]\n",
    "ones(5)\n",
    "\n",
    "# Random two dimensional matrix\n",
    "nine = rand(3,3)"
   ]
  },
  {
   "cell_type": "markdown",
   "metadata": {},
   "source": [
    "Note however that the order of columns and rows is different than what you're used to. Multidimensional arrays in Julia are stored in column-major order:"
   ]
  },
  {
   "cell_type": "code",
   "execution_count": 24,
   "metadata": {},
   "outputs": [
    {
     "data": {
      "text/plain": [
       "2×2 Matrix{Int64}:\n",
       " 1  2\n",
       " 3  4"
      ]
     },
     "execution_count": 24,
     "metadata": {},
     "output_type": "execute_result"
    }
   ],
   "source": [
    "x = [1 2; 3 4]"
   ]
  },
  {
   "cell_type": "code",
   "execution_count": 25,
   "metadata": {
    "tags": []
   },
   "outputs": [
    {
     "data": {
      "text/plain": [
       "4-element Vector{Int64}:\n",
       " 1\n",
       " 3\n",
       " 2\n",
       " 4"
      ]
     },
     "execution_count": 25,
     "metadata": {},
     "output_type": "execute_result"
    }
   ],
   "source": [
    "x[:]"
   ]
  },
  {
   "cell_type": "markdown",
   "metadata": {
    "tags": []
   },
   "source": [
    "## Missing support\n",
    "Whereas in Python you would use the numpy masking function, Julia has a built-in Missing type for this. It corresponds to the `NULL` from SQL or `NA` in R. It propagates through the use of normal math functions. There's also `nothing`, like Pythons None."
   ]
  },
  {
   "cell_type": "code",
   "execution_count": 26,
   "metadata": {},
   "outputs": [
    {
     "data": {
      "text/plain": [
       "2-element Vector{Union{Missing, Int64}}:\n",
       " 1\n",
       "  missing"
      ]
     },
     "execution_count": 26,
     "metadata": {},
     "output_type": "execute_result"
    }
   ],
   "source": [
    "A = [1, missing]"
   ]
  },
  {
   "cell_type": "code",
   "execution_count": 27,
   "metadata": {},
   "outputs": [
    {
     "data": {
      "text/plain": [
       "2-element Vector{Union{Missing, Int64}}:\n",
       " 2\n",
       "  missing"
      ]
     },
     "execution_count": 27,
     "metadata": {},
     "output_type": "execute_result"
    }
   ],
   "source": [
    "A .* 2"
   ]
  },
  {
   "cell_type": "code",
   "execution_count": 28,
   "metadata": {},
   "outputs": [
    {
     "data": {
      "text/plain": [
       "1-element Vector{Int64}:\n",
       " 1"
      ]
     },
     "execution_count": 28,
     "metadata": {},
     "output_type": "execute_result"
    }
   ],
   "source": [
    "collect(skipmissing(A))"
   ]
  },
  {
   "cell_type": "markdown",
   "metadata": {},
   "source": [
    "## Usage of `end` statement\n",
    "In Python the loop is ended by indentation:\n",
    "\n",
    "```python\n",
    "for x in collection:\n",
    "    something()\n",
    "\n",
    "# end of loop\n",
    "```"
   ]
  },
  {
   "cell_type": "markdown",
   "metadata": {},
   "source": [
    "While in Julia, you need to explicitly end the loop. The same goes for `function`s, `while`s, `if`s and `else`s and similar constructs:"
   ]
  },
  {
   "cell_type": "code",
   "execution_count": 29,
   "metadata": {},
   "outputs": [
    {
     "name": "stderr",
     "output_type": "stream",
     "text": [
      "\u001b[36m\u001b[1m[ \u001b[22m\u001b[39m\u001b[36m\u001b[1mInfo: \u001b[22m\u001b[39mThis seems a sensible result\n"
     ]
    }
   ],
   "source": [
    "function square(number::Int)\n",
    "    number^2\n",
    "end\n",
    "\n",
    "for x in 1:10\n",
    "    square(x)\n",
    "end\n",
    "\n",
    "if 1 > 10\n",
    "    println(\"What?!\")\n",
    "else\n",
    "    @info \"This seems a sensible result\"\n",
    "end"
   ]
  },
  {
   "cell_type": "markdown",
   "metadata": {},
   "source": [
    "Note that you also don't need the `:` character from Python."
   ]
  },
  {
   "cell_type": "markdown",
   "metadata": {},
   "source": [
    "## Indexing\n",
    "Depending on which language you come from, this can be odd, Julia uses one based indexing, just like Fortran. But unlike C and C-like languages such as Python. However, there are options to override this and have custom indexing, not only 0 based, but also custom loops etc."
   ]
  },
  {
   "cell_type": "code",
   "execution_count": 30,
   "metadata": {},
   "outputs": [
    {
     "name": "stdout",
     "output_type": "stream",
     "text": [
      "1\n",
      "3\n",
      "[1, 2]\n",
      "[1, 2, 3]\n",
      "[1, 2, 3]\n",
      "[0.3434547775575394, 0.5801117588861286, 0.8934566009617863]\n",
      "[0.3434547775575394, 0.956669384667573, 0.5138351219980384]\n"
     ]
    },
    {
     "ename": "LoadError",
     "evalue": "BoundsError: attempt to access 3-element Vector{Int64} at index [0]",
     "output_type": "error",
     "traceback": [
      "BoundsError: attempt to access 3-element Vector{Int64} at index [0]",
      "",
      "Stacktrace:",
      " [1] getindex(A::Vector{Int64}, i1::Int64)",
      "   @ Base ./essentials.jl:13",
      " [2] top-level scope",
      "   @ In[30]:12"
     ]
    }
   ],
   "source": [
    "a = [1,2,3]\n",
    "println(a[1])\n",
    "println(a[end])\n",
    "println(a[1:2])\n",
    "println(a[1:3])\n",
    "println(a[1:end])\n",
    "\n",
    "b = rand(3,3)\n",
    "println(b[1, :])  # 1 column\n",
    "println(b[:, 1])  # 1 row\n",
    "\n",
    "a[0]  # BoundsError"
   ]
  },
  {
   "cell_type": "markdown",
   "metadata": {},
   "source": [
    "Indexing with logic is supported, although the size of these arrays must match (unlike R)."
   ]
  },
  {
   "cell_type": "code",
   "execution_count": 31,
   "metadata": {},
   "outputs": [
    {
     "name": "stdout",
     "output_type": "stream",
     "text": [
      "a[a .> 1] = [2, 3]\n",
      "a[[true, true, false]] = [1, 2]\n"
     ]
    },
    {
     "ename": "LoadError",
     "evalue": "BoundsError: attempt to access 3-element Vector{Int64} at index [1-element Vector{Bool}]",
     "output_type": "error",
     "traceback": [
      "BoundsError: attempt to access 3-element Vector{Int64} at index [1-element Vector{Bool}]",
      "",
      "Stacktrace:",
      " [1] throw_boundserror(A::Vector{Int64}, I::Tuple{Base.LogicalIndex{Int64, Vector{Bool}}})",
      "   @ Base ./abstractarray.jl:744",
      " [2] checkbounds",
      "   @ ./abstractarray.jl:709 [inlined]",
      " [3] _getindex",
      "   @ ./multidimensional.jl:860 [inlined]",
      " [4] getindex(A::Vector{Int64}, I::Vector{Bool})",
      "   @ Base ./abstractarray.jl:1296",
      " [5] top-level scope",
      "   @ In[31]:4"
     ]
    }
   ],
   "source": [
    "@show a[a .> 1]\n",
    "@show a[[true, true, false]]\n",
    "\n",
    "a[[true]]  # errors"
   ]
  },
  {
   "cell_type": "markdown",
   "metadata": {},
   "source": [
    "Although it would more Julian to work with predicates, and maybe operate in place (reducing allocatings by mutating the array):"
   ]
  },
  {
   "cell_type": "code",
   "execution_count": 32,
   "metadata": {},
   "outputs": [
    {
     "name": "stderr",
     "output_type": "stream",
     "text": [
      "\u001b[36m\u001b[1m[ \u001b[22m\u001b[39m\u001b[36m\u001b[1mInfo: \u001b[22m\u001b[39m[2, 3]\n",
      "\u001b[36m\u001b[1m[ \u001b[22m\u001b[39m\u001b[36m\u001b[1mInfo: \u001b[22m\u001b[39m[1, 2, 3]\n"
     ]
    },
    {
     "data": {
      "text/plain": [
       "2-element Vector{Int64}:\n",
       " 2\n",
       " 3"
      ]
     },
     "execution_count": 32,
     "metadata": {},
     "output_type": "execute_result"
    }
   ],
   "source": [
    "@info filter(x -> x>1, a)\n",
    "@info a\n",
    "filter!(x -> x>1, a)  # ! indicates a mutating function\n",
    "a"
   ]
  },
  {
   "cell_type": "markdown",
   "metadata": {},
   "source": [
    "## Exercises\n",
    "We give a few problems here to try out, in a few minutes we'll provide our answers to them. Note that you could share them using [repl.it](repl.it) and generating a link there. In that way we can help you with your problems."
   ]
  },
  {
   "cell_type": "markdown",
   "metadata": {},
   "source": [
    "---\n",
    "Try to generate a few Arrays, either with `rand`, `range` or typed out and add/substract these two arrays. You can also `fill!` them. What does the `!` indicate in that function?\n"
   ]
  },
  {
   "cell_type": "code",
   "execution_count": 33,
   "metadata": {},
   "outputs": [
    {
     "data": {
      "text/plain": [
       "range (generic function with 4 methods)"
      ]
     },
     "execution_count": 33,
     "metadata": {},
     "output_type": "execute_result"
    }
   ],
   "source": [
    "range"
   ]
  },
  {
   "cell_type": "markdown",
   "metadata": {},
   "source": [
    "---\n",
    "Use `hcat` or `vcat` to concatenate these two arrays and if that fails, try to understand why. You can get the size or dimensions of an Array with `length` and `ndim`. See https://docs.julialang.org/en/v1/manual/arrays/ for an overview."
   ]
  },
  {
   "cell_type": "code",
   "execution_count": null,
   "metadata": {},
   "outputs": [],
   "source": []
  },
  {
   "cell_type": "markdown",
   "metadata": {},
   "source": [
    "---\n",
    "Try to slice any of the previously made arrays and get one value out of there. Can you also assign a single value to a specific point in your array? What happens if you put in an Integer instead in an Array of floats? What happens if you compare (`==`) your two Arrays? And what happens if you do `.==`?"
   ]
  },
  {
   "cell_type": "code",
   "execution_count": null,
   "metadata": {},
   "outputs": [],
   "source": []
  },
  {
   "cell_type": "markdown",
   "metadata": {},
   "source": [
    "---\n",
    "Let's try to apply some common algebra functions to your arrays. Can you use `'` (transpose)? Or use the `dot` function. Maybe the `inv` of your Matrix? See https://docs.julialang.org/en/v1/stdlib/LinearAlgebra/#Linear-Algebra-1 for an overview."
   ]
  },
  {
   "cell_type": "code",
   "execution_count": null,
   "metadata": {},
   "outputs": [],
   "source": []
  }
 ],
 "metadata": {
  "kernelspec": {
   "display_name": "Julia 1.9.3",
   "language": "julia",
   "name": "julia-1.9"
  },
  "language_info": {
   "file_extension": ".jl",
   "mimetype": "application/julia",
   "name": "julia",
   "version": "1.9.3"
  }
 },
 "nbformat": 4,
 "nbformat_minor": 4
}
