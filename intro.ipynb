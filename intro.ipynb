{
 "cells": [
  {
   "cell_type": "markdown",
   "metadata": {},
   "source": [
    "# Introduction: What is Julia"
   ]
  },
  {
   "cell_type": "markdown",
   "metadata": {},
   "source": [
    "Julia is a high-level, high-performance, dynamic programming language well-suited for high-performance numerical analysis and computational science. Or, as stated by its makers; [..] each [programming language] is perfect for some aspects of the work and terrible for others. Each one is a trade-off."
   ]
  },
  {
   "cell_type": "markdown",
   "metadata": {},
   "source": [
    ">**We are greedy: we want more.**\n",
    ">We want a language that's open source, with a liberal license. We want the speed of C with the dynamism of Ruby. We want a language that's homoiconic, with true macros like Lisp, but with obvious, familiar mathematical notation like Matlab. We want something as usable for general programming as Python, as easy for statistics as R, as natural for string processing as Perl, as powerful for linear algebra as Matlab, as good at gluing programs together as the shell. Something that is dirt simple to learn, yet keeps the most serious hackers happy. We want it interactive and we want it compiled."
   ]
  },
  {
   "cell_type": "markdown",
   "metadata": {},
   "source": [
    "- Made in 2009 at MIT by Jeff Bezanson, Stefan Karpinski, Viral B. Shah, and Alan Edelman.\n",
    "- First released in 2012, v1.0 release in 2018. Currently at v1.9.3 with 1.10 around the corner (beta).\n",
    "- Open MIT license, developed on Github, currently at 55k commits, 1425 contributors and 43k stars.\n",
    "- Only 11 years old (!)"
   ]
  },
  {
   "cell_type": "markdown",
   "metadata": {},
   "source": [
    "## Solving the two language problem\n",
    "Normally you have two languages.\n",
    "- A language to prototype, easy but slow (Python, R, Matlab)\n",
    "- A language for production, hard but fast (C, C++, Fortran)\n",
    "\n",
    "This happens everywhere, and you might not notice it at first. Most of our (geospatial) packages depend on C++ libraries, like GDAL, GEOS and PROJ. Packages like numpy and pytorch in Python use a lot of C(++) under the hood."
   ]
  },
  {
   "cell_type": "markdown",
   "metadata": {
    "tags": []
   },
   "source": [
    "Julia is used by many companies around the world. Noticable uses include financial analysis by investors/banks. Of interest to us is the [Celeste](https://github.com/jeff-regier/Celeste.jl) project in 2017 where Julia was used or astronomical analysis to achieve 1.54 petaFLOPS using 1.3 million threads on a supercomputer. And the \n",
    "Climate Modeling Alliance (CLIMA) who use Julia for their next-gen global climate model [Oceananigans.jl](https://github.com/CliMA/Oceananigans.jl.).\n",
    "\n",
    "At Deltares, Julia was first tried out when working on large scale pointclouds by Martijn Visser. Python was too slow, but C++ was a step too far. The language was still in its infancy, so there were some issues, but it generally worked well and enabled us to process the billions of points for our project in Indonesia. The used and generated packages are now part of JuliaGeo: https://juliageo.org/, with geospatial libraries linked such as GDAL, GEOS, Proj etc."
   ]
  },
  {
   "cell_type": "markdown",
   "metadata": {
    "tags": []
   },
   "source": [
    "---\n",
    "## Features (the good)"
   ]
  },
  {
   "cell_type": "markdown",
   "metadata": {
    "tags": []
   },
   "source": [
    "### Multiple dispatch\n",
    "Julia is a dynamically typed language, like Matlab or Python, so it will try to figure out the correct types on the fly. Specifying types is optional, and can be used for instance so select the right method based on input types."
   ]
  },
  {
   "cell_type": "code",
   "execution_count": 16,
   "metadata": {},
   "outputs": [
    {
     "data": {
      "text/plain": [
       "power"
      ]
     },
     "execution_count": 16,
     "metadata": {},
     "output_type": "execute_result"
    }
   ],
   "source": [
    "\"\"\"\n",
    "    power(a, b)\n",
    "\n",
    "Generic `power`.\n",
    "\"\"\"\n",
    "function power(a, b)\n",
    "    a^b\n",
    "end\n",
    "\n",
    "\"\"\"\n",
    "    power(a::Integer, b::Integer)\n",
    "\n",
    "Special case for `power` handling of Integers.\n",
    "\"\"\"\n",
    "function power(a::Integer, b::Integer)\n",
    "    # special sauce here\n",
    "    a^b::Integer  # type isn't required here as it is inferred\n",
    "end"
   ]
  },
  {
   "cell_type": "code",
   "execution_count": 17,
   "metadata": {},
   "outputs": [
    {
     "name": "stdout",
     "output_type": "stream",
     "text": [
      "search: \u001b[0m\u001b[1mp\u001b[22m\u001b[0m\u001b[1mo\u001b[22m\u001b[0m\u001b[1mw\u001b[22m\u001b[0m\u001b[1me\u001b[22m\u001b[0m\u001b[1mr\u001b[22m \u001b[0m\u001b[1mp\u001b[22m\u001b[0m\u001b[1mo\u001b[22m\u001b[0m\u001b[1mw\u001b[22m\u001b[0m\u001b[1me\u001b[22m\u001b[0m\u001b[1mr\u001b[22mmod\n",
      "\n"
     ]
    },
    {
     "data": {
      "text/latex": [
       "\\begin{verbatim}\n",
       "power(a, b)\n",
       "\\end{verbatim}\n",
       "Generic \\texttt{power}.\n",
       "\n",
       "\\rule{\\textwidth}{1pt}\n",
       "\\begin{verbatim}\n",
       "power(a::Integer, b::Integer)\n",
       "\\end{verbatim}\n",
       "Special case for \\texttt{power} handling of Integers.\n",
       "\n"
      ],
      "text/markdown": [
       "```\n",
       "power(a, b)\n",
       "```\n",
       "\n",
       "Generic `power`.\n",
       "\n",
       "---\n",
       "\n",
       "```\n",
       "power(a::Integer, b::Integer)\n",
       "```\n",
       "\n",
       "Special case for `power` handling of Integers.\n"
      ],
      "text/plain": [
       "\u001b[36m  power(a, b)\u001b[39m\n",
       "\n",
       "  Generic \u001b[36mpower\u001b[39m.\n",
       "\n",
       "  ────────────────────────────────────────────────────────────────────────────\n",
       "\n",
       "\u001b[36m  power(a::Integer, b::Integer)\u001b[39m\n",
       "\n",
       "  Special case for \u001b[36mpower\u001b[39m handling of Integers."
      ]
     },
     "execution_count": 17,
     "metadata": {},
     "output_type": "execute_result"
    }
   ],
   "source": [
    "?power"
   ]
  },
  {
   "cell_type": "markdown",
   "metadata": {},
   "source": [
    "---\n",
    "User-defined types are as fast and compact as built-ins. This means that creating your own types is fully supported and with a few lines can be  understood by the ecosystem. This example also makes use of multiple dispatch, to which I come back later."
   ]
  },
  {
   "cell_type": "code",
   "execution_count": 5,
   "metadata": {},
   "outputs": [
    {
     "data": {
      "text/plain": [
       "MyMeasurement(2.0, 0.2)"
      ]
     },
     "execution_count": 5,
     "metadata": {},
     "output_type": "execute_result"
    }
   ],
   "source": [
    "struct MyMeasurement\n",
    "    val::Float64\n",
    "    err::Float64\n",
    "end\n",
    "Base.:*(m::MyMeasurement, other::Number) = MyMeasurement(m.val * other, m.err * other)\n",
    "MyMeasurement(1.0, 0.1) * 2.0"
   ]
  },
  {
   "cell_type": "markdown",
   "metadata": {},
   "source": [
    "---\n",
    "### Interopability\n",
    "Call C or Fortran functions directly (no wrappers or special APIs needed). Many of the types are identical, so they can be load/cast without copies. Python interopability is also supported with PyCall.jl, and R with RCall.jl."
   ]
  },
  {
   "cell_type": "code",
   "execution_count": 6,
   "metadata": {},
   "outputs": [
    {
     "data": {
      "text/plain": [
       "8969032"
      ]
     },
     "execution_count": 6,
     "metadata": {},
     "output_type": "execute_result"
    }
   ],
   "source": [
    "ccall(:clock, Int32, ())"
   ]
  },
  {
   "cell_type": "markdown",
   "metadata": {},
   "source": [
    "---\n",
    "### Unicode\n",
    "Efficient support for Unicode, including but not limited to UTF-8. This makes it easier to have code that looks similar to the equations as you may read them in a paper."
   ]
  },
  {
   "cell_type": "code",
   "execution_count": 7,
   "metadata": {},
   "outputs": [
    {
     "name": "stdout",
     "output_type": "stream",
     "text": [
      "3.141592653589793\n"
     ]
    },
    {
     "data": {
      "text/plain": [
       "1.0"
      ]
     },
     "execution_count": 7,
     "metadata": {},
     "output_type": "execute_result"
    }
   ],
   "source": [
    "# use actual example\n",
    "using Statistics\n",
    "values = [1,2,3,4,5]\n",
    "√(sum((values .- mean(values)).^2) / (length(values) - 1))\n",
    "\n",
    "println(π * 1.0)\n",
    "\n",
    "🎲() = rand(1:6)  # you can go too far... 😜\n",
    "🎲()\n",
    "ρ = 1.0"
   ]
  },
  {
   "cell_type": "markdown",
   "metadata": {},
   "source": [
    "---\n",
    "### Loops\n",
    "No need to vectorize code for performance; devectorized code is fast. Just write out your ```for``` loops."
   ]
  },
  {
   "cell_type": "code",
   "execution_count": 18,
   "metadata": {},
   "outputs": [
    {
     "name": "stdout",
     "output_type": "stream",
     "text": [
      "  0.128080 seconds (117 allocations: 9.305 KiB)\n"
     ]
    },
    {
     "name": "stderr",
     "output_type": "stream",
     "text": [
      "\u001b[36m\u001b[1m[ \u001b[22m\u001b[39m\u001b[36m\u001b[1mInfo: \u001b[22m\u001b[39m3.14159264498239\n"
     ]
    },
    {
     "name": "stdout",
     "output_type": "stream",
     "text": [
      "  0.123337 seconds (356 allocations: 762.969 MiB, 2.62% gc time)\n"
     ]
    },
    {
     "name": "stderr",
     "output_type": "stream",
     "text": [
      "\u001b[36m\u001b[1m[ \u001b[22m\u001b[39m\u001b[36m\u001b[1mInfo: \u001b[22m\u001b[39m3.1415926440404984\n"
     ]
    },
    {
     "data": {
      "text/plain": [
       "3-element Vector{Int64}:\n",
       " 1\n",
       " 2\n",
       " 3"
      ]
     },
     "execution_count": 18,
     "metadata": {},
     "output_type": "execute_result"
    }
   ],
   "source": [
    "# Euler–Riemann zeta function\n",
    "\n",
    "function ζ()\n",
    "    total = 0.0\n",
    "    for k = 1:100_000_000\n",
    "        total += 1.0/(k*k)\n",
    "    end\n",
    "    sqrt(total*6)\n",
    "end\n",
    "@time @info ζ()  # note that you want to precompile functions and you need a proper benchmark, please use BenchmarkTools\n",
    "\n",
    "# For completeness, the vectorized notation\n",
    "function ζv()\n",
    "    a = 1:100_000_000\n",
    "    total = sum(1 ./ (a.*a))\n",
    "    sqrt(total*6)\n",
    "end\n",
    "@time @info ζv()\n",
    "\n",
    "a = [1,2,3]"
   ]
  },
  {
   "cell_type": "markdown",
   "metadata": {},
   "source": [
    "---\n",
    "### Arrays\n",
    "Full support for Multi-Dimensional Arrays. Unlike Python, which needs Numpy for arrays (itself built in C btw), Julia support multi-dimensional arrays out of the box."
   ]
  },
  {
   "cell_type": "code",
   "execution_count": 9,
   "metadata": {},
   "outputs": [
    {
     "data": {
      "text/plain": [
       "5-element Vector{Int64}:\n",
       "  1\n",
       "  4\n",
       "  9\n",
       " 16\n",
       " 25"
      ]
     },
     "execution_count": 9,
     "metadata": {},
     "output_type": "execute_result"
    }
   ],
   "source": [
    "A = rand(5)  # random\n",
    "B = ones(5,2,3)  # 5x2x3 array of 1s\n",
    "C = Matrix(undef, 5, 5)  # initialize without (re)setting memory values\n",
    "\n",
    "[1,2,3,4,5] .* [1,2,3,4,5]"
   ]
  },
  {
   "cell_type": "markdown",
   "metadata": {},
   "source": [
    "---\n",
    "### Metaprogramming\n",
    "Lisp-like macros and other metaprogramming facilities. Julia represents its own code as a data structure of the language itself. This enables macros, but in the end *anything* you can think of. We've used it to generate thousands of lines of code that would normally have to be handwritten. It's really programming your programming.\n"
   ]
  },
  {
   "cell_type": "code",
   "execution_count": 10,
   "metadata": {},
   "outputs": [
    {
     "name": "stdout",
     "output_type": "stream",
     "text": [
      "Expr 1 + 1\n",
      "call\n",
      "Any[:+, 1, 1]\n"
     ]
    },
    {
     "data": {
      "text/plain": [
       "true"
      ]
     },
     "execution_count": 10,
     "metadata": {},
     "output_type": "execute_result"
    }
   ],
   "source": [
    "# Everything's a string first\n",
    "prog = \"1 + 1\"\n",
    "ex1 = Meta.parse(prog)\n",
    "println(\"$(typeof(ex1)) $ex1\")\n",
    "\n",
    "# An expression has a head and args\n",
    "println(ex1.head)\n",
    "println(ex1.args)\n",
    "\n",
    "# You can create this yourself as well\n",
    "ex2 = Expr(:call, :+, 1, 1)\n",
    "ex2 == ex1"
   ]
  },
  {
   "cell_type": "markdown",
   "metadata": {},
   "source": [
    "---\n",
    "### Package manager\n",
    "A built in package manager. This prevents the need for many distributions and or tools such as anaconda and pip."
   ]
  },
  {
   "cell_type": "code",
   "execution_count": 11,
   "metadata": {},
   "outputs": [
    {
     "name": "stdout",
     "output_type": "stream",
     "text": [
      "  \u001b[1mWelcome to the Pkg REPL-mode\u001b[22m. To return to the \u001b[36mjulia>\u001b[39m prompt, either press\n",
      "  backspace when the input line is empty or press Ctrl+C.\n",
      "\n",
      "  Full documentation available at https://pkgdocs.julialang.org/\n",
      "\n",
      "  \u001b[1mSynopsis\u001b[22m\n",
      "\n",
      "\u001b[36m  pkg> cmd [opts] [args]\u001b[39m\n",
      "\n",
      "  Multiple commands can be given on the same line by interleaving a \u001b[36m;\u001b[39m between\n",
      "  the commands. Some commands have an alias, indicated below.\n",
      "\n",
      "  \u001b[1mCommands\u001b[22m\n",
      "\n",
      "  \u001b[36mactivate\u001b[39m: set the primary environment the package manager manipulates\n",
      "\n",
      "  \u001b[36madd\u001b[39m: add packages to project\n",
      "\n",
      "  \u001b[36mbuild\u001b[39m: run the build script for packages\n",
      "\n",
      "  \u001b[36mcompat\u001b[39m: edit compat entries in the current Project and re-resolve\n",
      "\n",
      "  \u001b[36mdevelop\u001b[39m, \u001b[36mdev\u001b[39m: clone the full package repo locally for development\n",
      "\n",
      "  \u001b[36mfree\u001b[39m: undoes a \u001b[36mpin\u001b[39m, \u001b[36mdevelop\u001b[39m, or stops tracking a repo\n",
      "\n",
      "  \u001b[36mgc\u001b[39m: garbage collect packages not used for a significant time\n",
      "\n",
      "  \u001b[36mgenerate\u001b[39m: generate files for a new project\n",
      "\n",
      "  \u001b[36mhelp\u001b[39m, \u001b[36m?\u001b[39m: show this message\n",
      "\n",
      "  \u001b[36minstantiate\u001b[39m: downloads all the dependencies for the project\n",
      "\n",
      "  \u001b[36mpin\u001b[39m: pins the version of packages\n",
      "\n",
      "  \u001b[36mprecompile\u001b[39m: precompile all the project dependencies\n",
      "\n",
      "  \u001b[36mredo\u001b[39m: redo the latest change to the active project\n",
      "\n",
      "  \u001b[36mremove\u001b[39m, \u001b[36mrm\u001b[39m: remove packages from project or manifest\n",
      "\n",
      "  \u001b[36mresolve\u001b[39m: resolves to update the manifest from changes in dependencies of\n",
      "  developed packages\n",
      "\n",
      "  \u001b[36mstatus\u001b[39m, \u001b[36mst\u001b[39m: summarize contents of and changes to environment\n",
      "\n",
      "  \u001b[36mtest\u001b[39m: run tests for packages\n",
      "\n",
      "  \u001b[36mundo\u001b[39m: undo the latest change to the active project\n",
      "\n",
      "  \u001b[36mupdate\u001b[39m, \u001b[36mup\u001b[39m: update packages in manifest\n",
      "\n",
      "  \u001b[36mwhy\u001b[39m: shows why a package is in the manifest\n",
      "\n",
      "  \u001b[36mregistry add\u001b[39m: add package registries\n",
      "\n",
      "  \u001b[36mregistry remove\u001b[39m, \u001b[36mrm\u001b[39m: remove package registries\n",
      "\n",
      "  \u001b[36mregistry status\u001b[39m, \u001b[36mst\u001b[39m: information about installed registries\n",
      "\n",
      "  \u001b[36mregistry update\u001b[39m, \u001b[36mup\u001b[39m: update package registries\n"
     ]
    }
   ],
   "source": [
    "]?"
   ]
  },
  {
   "cell_type": "markdown",
   "metadata": {},
   "source": [
    "## When to use\n",
    "This lecture aims at giving you a good introduction to Julia and to understand when you could choose to use it. We do not propose you dump Python, Matlab, Fortran or C++ now (well, maybe Matlab). As described above, we think the clear use case for Julia is technical computing. Domain specific programs that require High Performance Computing (HPC).\n",
    "\n",
    "We still use Python a lot for simple scripts or webservices and advise you to keep doing that. However, if you hit the limits of what you can do with Python or R, you might want to try Julia."
   ]
  },
  {
   "cell_type": "markdown",
   "metadata": {},
   "source": [
    "### The bad\n",
    "The main drawback of Julia is the young ecosystem, while there are multiple state of the art libraries, mainly focused on computing, the ecosystem is lacking for more general programming, compared to a language like Python."
   ]
  },
  {
   "cell_type": "markdown",
   "metadata": {},
   "source": [
    "### The ugly\n",
    "- Can't compile code to a small executable (~500MB)\n",
    "- Compilation times or Time to first plot (TTFP)"
   ]
  },
  {
   "cell_type": "markdown",
   "metadata": {},
   "source": [
    "## Excercise\n",
    "Please try to make a function that:\n",
    "- prints \"Hello World\"\n",
    "- takes a `name` argument and prints \"Hello Maarten\" if the given name is \"Maarten\"\n",
    "- takes a `name` argument but prints \"Hello World\" if the give name is empty\n",
    "\n",
    "See the manual to help you out https://docs.julialang.org/en/v1/manual/functions/"
   ]
  },
  {
   "cell_type": "code",
   "execution_count": 12,
   "metadata": {},
   "outputs": [],
   "source": [
    "# please write your function here. Shift enter or the play button above executes it"
   ]
  },
  {
   "cell_type": "code",
   "execution_count": null,
   "metadata": {},
   "outputs": [],
   "source": []
  }
 ],
 "metadata": {
  "kernelspec": {
   "display_name": "Julia 1.9.3",
   "language": "julia",
   "name": "julia-1.9"
  },
  "language_info": {
   "file_extension": ".jl",
   "mimetype": "application/julia",
   "name": "julia",
   "version": "1.9.3"
  },
  "toc-autonumbering": true,
  "toc-showcode": false,
  "toc-showmarkdowntxt": false
 },
 "nbformat": 4,
 "nbformat_minor": 4
}
